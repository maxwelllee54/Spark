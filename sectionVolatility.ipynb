{
 "cells": [
  {
   "cell_type": "code",
   "execution_count": 1,
   "metadata": {
    "collapsed": true
   },
   "outputs": [],
   "source": [
    "from pyspark.sql import SparkSession, functions as f\n",
    "from pyspark.sql.window import Window\n",
    "from pyspark.sql.types import DoubleType"
   ]
  },
  {
   "cell_type": "code",
   "execution_count": 2,
   "metadata": {},
   "outputs": [],
   "source": [
    "spark = SparkSession.builder.master('local[*]').appName('HTF_Vol').getOrCreate()\n",
    "spark.conf.set(\"spark.executor.memory\", \"2g\")\n",
    "\n",
    "df = spark.read.csv('new2MM.csv', header=True)\n",
    "df = df.withColumn('TIME', f.date_format(df.TIME, 'HH:mm:ss'))\n",
    "df = df.withColumn('PRICE', df['PRICE'].cast(DoubleType()))\n",
    "df = df.withColumn('SIZE', df['SIZE'].cast(DoubleType()))"
   ]
  },
  {
   "cell_type": "code",
   "execution_count": 3,
   "metadata": {},
   "outputs": [],
   "source": [
    "# patition a window to calculcate the u_sequence\n",
    "w = Window().partitionBy('SYMBOL', 'DATE').orderBy('TIME')\n",
    "\n",
    "# calculate the u_sequence\n",
    "df = df.withColumn('PRICE_1', f.lead('PRICE').over(w))\n",
    "df = df.withColumn('LOG_RETURN', f.log(df.PRICE_1/df.PRICE))\n",
    "\n",
    "\n",
    "# patition a window to calculate the moving standard deviation\n",
    "window_period = 100\n",
    "w2 = Window().partitionBy('SYMBOL', 'DATE').orderBy('TIME').rowsBetween(0, window_period)\n",
    "df = df.withColumn('VOLATILITY', f.stddev(df['LOG_RETURN']).over(w2))"
   ]
  },
  {
   "cell_type": "code",
   "execution_count": 4,
   "metadata": {},
   "outputs": [],
   "source": [
    "#df.show()"
   ]
  },
  {
   "cell_type": "code",
   "execution_count": 5,
   "metadata": {},
   "outputs": [],
   "source": [
    "seconds = 300\n",
    "timeFormat = 'HH:mm:ss'\n",
    "seconds_window = f.from_unixtime(f.unix_timestamp('TIME', format='HH:mm:ss') - \n",
    "                  f.unix_timestamp('TIME', format='HH:mm:ss') % seconds, format='HH:mm:ss')"
   ]
  },
  {
   "cell_type": "code",
   "execution_count": 6,
   "metadata": {},
   "outputs": [],
   "source": [
    "df = df.withColumn('5_min_window', seconds_window)\n",
    "\n",
    "#df_AA = df.where(df['SYMBOL'] == 'A').select('*')"
   ]
  },
  {
   "cell_type": "code",
   "execution_count": 7,
   "metadata": {},
   "outputs": [],
   "source": [
    "new_df = df.groupby('SYMBOL', 'DATE', '5_min_window').agg(\n",
    "    f.avg('VOLATILITY').alias('avgVol'),\n",
    "    f.avg('PRICE').alias('avgPrice'),\n",
    "    f.avg('SIZE').alias('avgSize'))"
   ]
  },
  {
   "cell_type": "code",
   "execution_count": 8,
   "metadata": {
    "collapsed": true
   },
   "outputs": [],
   "source": [
    "#new_df.show()"
   ]
  },
  {
   "cell_type": "code",
   "execution_count": 9,
   "metadata": {},
   "outputs": [],
   "source": [
    "w3 = Window().partitionBy('SYMBOL', 'DATE').orderBy('5_min_window')\n",
    "w4 = Window().partitionBy('SYMBOL').orderBy('DATE', '5_min_window')\n",
    "\n",
    "# calculate the u_sequence\n",
    "new_df = new_df.withColumn('PRICE_1', f.lead('avgPrice').over(w4))\n",
    "new_df = new_df.withColumn('U_SEQ', f.log(new_df.PRICE_1/new_df.avgPrice))\n",
    "new_df = new_df.withColumn('Num', f.lit(1))\n",
    "new_df = new_df.withColumn('totalSum', f.sum('Num').over(w4))\n",
    "new_df = new_df.withColumn('sumSqaures', f.sum(f.pow(new_df.U_SEQ, 2)).over(w4)/(new_df.totalSum - f.lit(1)))\n",
    "new_df = new_df.withColumn('suqareSums', f.pow(f.sum(new_df.U_SEQ).over(w4), 2)/((new_df.totalSum - f.lit(1)) \n",
    "                                                                                * new_df.totalSum))\n",
    "new_df = new_df.withColumn('sectionVol', f.sqrt(new_df.sumSqaures - new_df.suqareSums))\n",
    "\n",
    "\n",
    "\n",
    "\n",
    "#section_volatility = f.sqrt(f.sum(f.pow(new_df.U_SEQ, 2)).over(w3)/(new_df.totalSum - f.lit(1)) \n",
    "#                            - f.pow(f.sum(new_df.U_SEQ).over(w3), 2)/((new_df.totalSum - f.lit(1) * new_df.totalSum)))\n",
    "\n",
    "\n",
    "#new_df = new_df.withColumn('sectionVol', section_volatility)\n",
    "#df = df.withColumn('cumSum', f.sum('PRICE').over(w))\n",
    "\n",
    "#df = df.withColumn('count', f.lit(1))\n",
    "#df = df.withColumn('totalNum', f.sum('count').over(w))"
   ]
  },
  {
   "cell_type": "code",
   "execution_count": 10,
   "metadata": {},
   "outputs": [],
   "source": [
    "data_pd = new_df\\\n",
    "    .select('SYMBOL', 'DATE', '5_min_window', 'avgVol', 'avgPrice', 'avgSize','PRICE_1', 'U_SEQ', 'totalSum',\n",
    "            'sectionVol')\\\n",
    "    .toPandas()"
   ]
  },
  {
   "cell_type": "code",
   "execution_count": 11,
   "metadata": {},
   "outputs": [
    {
     "data": {
      "text/html": [
       "<div>\n",
       "<table border=\"1\" class=\"dataframe\">\n",
       "  <thead>\n",
       "    <tr style=\"text-align: right;\">\n",
       "      <th></th>\n",
       "      <th>SYMBOL</th>\n",
       "      <th>DATE</th>\n",
       "      <th>5_min_window</th>\n",
       "      <th>avgVol</th>\n",
       "      <th>avgPrice</th>\n",
       "      <th>avgSize</th>\n",
       "      <th>PRICE_1</th>\n",
       "      <th>U_SEQ</th>\n",
       "      <th>totalSum</th>\n",
       "      <th>sectionVol</th>\n",
       "    </tr>\n",
       "  </thead>\n",
       "  <tbody>\n",
       "    <tr>\n",
       "      <th>0</th>\n",
       "      <td>ABK</td>\n",
       "      <td>20021202</td>\n",
       "      <td>09:30:00</td>\n",
       "      <td>0.000426</td>\n",
       "      <td>63.151250</td>\n",
       "      <td>1150.000000</td>\n",
       "      <td>63.147692</td>\n",
       "      <td>-0.000056</td>\n",
       "      <td>1</td>\n",
       "      <td>NaN</td>\n",
       "    </tr>\n",
       "    <tr>\n",
       "      <th>1</th>\n",
       "      <td>ABK</td>\n",
       "      <td>20021202</td>\n",
       "      <td>09:35:00</td>\n",
       "      <td>0.000365</td>\n",
       "      <td>63.147692</td>\n",
       "      <td>584.615385</td>\n",
       "      <td>62.923636</td>\n",
       "      <td>-0.003554</td>\n",
       "      <td>2</td>\n",
       "      <td>0.002474</td>\n",
       "    </tr>\n",
       "    <tr>\n",
       "      <th>2</th>\n",
       "      <td>ABK</td>\n",
       "      <td>20021202</td>\n",
       "      <td>09:40:00</td>\n",
       "      <td>0.000339</td>\n",
       "      <td>62.923636</td>\n",
       "      <td>1150.000000</td>\n",
       "      <td>62.854615</td>\n",
       "      <td>-0.001098</td>\n",
       "      <td>3</td>\n",
       "      <td>0.001796</td>\n",
       "    </tr>\n",
       "    <tr>\n",
       "      <th>3</th>\n",
       "      <td>ABK</td>\n",
       "      <td>20021202</td>\n",
       "      <td>09:45:00</td>\n",
       "      <td>0.000349</td>\n",
       "      <td>62.854615</td>\n",
       "      <td>369.230769</td>\n",
       "      <td>62.668462</td>\n",
       "      <td>-0.002966</td>\n",
       "      <td>4</td>\n",
       "      <td>0.001624</td>\n",
       "    </tr>\n",
       "    <tr>\n",
       "      <th>4</th>\n",
       "      <td>ABK</td>\n",
       "      <td>20021202</td>\n",
       "      <td>09:50:00</td>\n",
       "      <td>0.000343</td>\n",
       "      <td>62.668462</td>\n",
       "      <td>430.769231</td>\n",
       "      <td>62.607600</td>\n",
       "      <td>-0.000972</td>\n",
       "      <td>5</td>\n",
       "      <td>0.001469</td>\n",
       "    </tr>\n",
       "  </tbody>\n",
       "</table>\n",
       "</div>"
      ],
      "text/plain": [
       "<div>\n",
       "<table border=\"1\" class=\"dataframe\">\n",
       "  <thead>\n",
       "    <tr style=\"text-align: right;\">\n",
       "      <th></th>\n",
       "      <th>SYMBOL</th>\n",
       "      <th>DATE</th>\n",
       "      <th>5_min_window</th>\n",
       "      <th>avgVol</th>\n",
       "      <th>avgPrice</th>\n",
       "      <th>avgSize</th>\n",
       "      <th>PRICE_1</th>\n",
       "      <th>U_SEQ</th>\n",
       "      <th>totalSum</th>\n",
       "      <th>sectionVol</th>\n",
       "    </tr>\n",
       "  </thead>\n",
       "  <tbody>\n",
       "    <tr>\n",
       "      <th>0</th>\n",
       "      <td>ABK</td>\n",
       "      <td>20021202</td>\n",
       "      <td>09:30:00</td>\n",
       "      <td>0.000426</td>\n",
       "      <td>63.151250</td>\n",
       "      <td>1150.000000</td>\n",
       "      <td>63.147692</td>\n",
       "      <td>-0.000056</td>\n",
       "      <td>1</td>\n",
       "      <td>NaN</td>\n",
       "    </tr>\n",
       "    <tr>\n",
       "      <th>1</th>\n",
       "      <td>ABK</td>\n",
       "      <td>20021202</td>\n",
       "      <td>09:35:00</td>\n",
       "      <td>0.000365</td>\n",
       "      <td>63.147692</td>\n",
       "      <td>584.615385</td>\n",
       "      <td>62.923636</td>\n",
       "      <td>-0.003554</td>\n",
       "      <td>2</td>\n",
       "      <td>0.002474</td>\n",
       "    </tr>\n",
       "    <tr>\n",
       "      <th>2</th>\n",
       "      <td>ABK</td>\n",
       "      <td>20021202</td>\n",
       "      <td>09:40:00</td>\n",
       "      <td>0.000339</td>\n",
       "      <td>62.923636</td>\n",
       "      <td>1150.000000</td>\n",
       "      <td>62.854615</td>\n",
       "      <td>-0.001098</td>\n",
       "      <td>3</td>\n",
       "      <td>0.001796</td>\n",
       "    </tr>\n",
       "    <tr>\n",
       "      <th>3</th>\n",
       "      <td>ABK</td>\n",
       "      <td>20021202</td>\n",
       "      <td>09:45:00</td>\n",
       "      <td>0.000349</td>\n",
       "      <td>62.854615</td>\n",
       "      <td>369.230769</td>\n",
       "      <td>62.668462</td>\n",
       "      <td>-0.002966</td>\n",
       "      <td>4</td>\n",
       "      <td>0.001624</td>\n",
       "    </tr>\n",
       "    <tr>\n",
       "      <th>4</th>\n",
       "      <td>ABK</td>\n",
       "      <td>20021202</td>\n",
       "      <td>09:50:00</td>\n",
       "      <td>0.000343</td>\n",
       "      <td>62.668462</td>\n",
       "      <td>430.769231</td>\n",
       "      <td>62.607600</td>\n",
       "      <td>-0.000972</td>\n",
       "      <td>5</td>\n",
       "      <td>0.001469</td>\n",
       "    </tr>\n",
       "  </tbody>\n",
       "</table>\n",
       "</div>"
      ]
     },
     "execution_count": 11,
     "metadata": {},
     "output_type": "execute_result"
    }
   ],
   "source": [
    "data_pd.head()"
   ]
  },
  {
   "cell_type": "code",
   "execution_count": 17,
   "metadata": {},
   "outputs": [],
   "source": [
    "sectionVolatility = {}\n",
    "for symbol in set(data_pd.SYMBOL):\n",
    "    sectionVolatility[symbol] = data_pd.loc[data_pd.SYMBOL == symbol, :].reset_index()"
   ]
  },
  {
   "cell_type": "code",
   "execution_count": 21,
   "metadata": {},
   "outputs": [
    {
     "name": "stdout",
     "output_type": "stream",
     "text": [
      "Using matplotlib backend: MacOSX\n"
     ]
    }
   ],
   "source": [
    "%matplotlib\n",
    "from matplotlib import pyplot as plt\n",
    "count = 1\n",
    "fig, axes = plt.subplots(nrows=2, ncols=1, figsize=(15,10))\n",
    "\n",
    "\n",
    "for symbol in sectionVolatility:\n",
    "    plt.subplot(2, 1, 1)\n",
    "    plt.grid()\n",
    "    plt.plot(sectionVolatility[symbol].loc[:,  'sectionVol'], label=symbol)\n",
    "    plt.legend(loc='upper right')\n",
    "    plt.ylabel('Section Volatility')\n",
    "    plt.subplot(2, 1, 2)\n",
    "    plt.plot(sectionVolatility[symbol].loc[:,  'avgPrice'], label=symbol)\n",
    "    plt.grid()\n",
    "    plt.ylabel('Stock Price')\n",
    "    #sectionVolatility[symbol].to_csv(symbol + '_SectionVol_0614.csv')\n",
    "    count +=1\n",
    "    if count > 5:\n",
    "        break\n",
    "\n",
    "plt.suptitle('Section Volatility')\n",
    "#plt.ylabel('Section Volatility')\n",
    "plt.savefig('Section_Vol0614.png')"
   ]
  },
  {
   "cell_type": "code",
   "execution_count": 22,
   "metadata": {},
   "outputs": [],
   "source": [
    "data_pd.to_csv('section_volatility.csv')"
   ]
  },
  {
   "cell_type": "code",
   "execution_count": null,
   "metadata": {},
   "outputs": [],
   "source": [
    ""
   ]
  }
 ],
 "metadata": {
  "kernelspec": {
   "display_name": "Python 2",
   "language": "python",
   "name": "python2"
  },
  "language_info": {
   "codemirror_mode": {
    "name": "ipython",
    "version": 2.0
   },
   "file_extension": ".py",
   "mimetype": "text/x-python",
   "name": "python",
   "nbconvert_exporter": "python",
   "pygments_lexer": "ipython2",
   "version": "2.7.6"
  }
 },
 "nbformat": 4,
 "nbformat_minor": 0
}