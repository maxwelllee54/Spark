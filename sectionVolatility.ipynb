{
 "cells": [
  {
   "cell_type": "code",
   "execution_count": 1,
   "metadata": {
    "collapsed": true
   },
   "outputs": [],
   "source": [
    "from pyspark.sql import SparkSession, functions as f\n",
    "from pyspark.sql.window import Window"
   ]
  },
  {
   "cell_type": "code",
   "execution_count": 2,
   "metadata": {},
   "outputs": [],
   "source": [
    "spark = SparkSession.builder.master('local[*]').appName('HTF_Vol').getOrCreate()\n",
    "spark.conf.set(\"spark.executor.memory\", \"2g\")\n",
    "\n",
    "\n",
    "\n",
    "df = spark.read.csv('newaa.csv', header=True)\n",
    "df = df.withColumn('TIME', f.date_format(df.TIME, 'HH:mm:ss'))"
   ]
  },
  {
   "cell_type": "code",
   "execution_count": 3,
   "metadata": {},
   "outputs": [
    {
     "name": "stdout",
     "output_type": "stream",
     "text": [
      "+------+--------+--------+-----+-----+\n|SYMBOL|    DATE|    TIME|PRICE| SIZE|\n+------+--------+--------+-----+-----+\n|     A|20021202|09:30:20|19.75|30200|\n|     A|20021202|09:30:22|19.75|  100|\n|     A|20021202|09:30:22|19.75|  300|\n|     A|20021202|09:30:22|19.75|  100|\n|     A|20021202|09:30:23|19.75|  100|\n|     A|20021202|09:30:23|19.75|  100|\n|     A|20021202|09:30:23|19.75|  100|\n|     A|20021202|09:30:23|19.75|  100|\n|     A|20021202|09:30:23|19.75|  100|\n|     A|20021202|09:30:23|19.75|  100|\n|     A|20021202|09:30:23|19.75| 1100|\n|     A|20021202|09:30:23|19.75| 1000|\n|     A|20021202|09:30:23|19.75|  400|\n|     A|20021202|09:30:23|19.75|  100|\n|     A|20021202|09:30:23|19.75|  100|\n|     A|20021202|09:30:23|19.75|  200|\n|     A|20021202|09:30:23|19.75|  100|\n|     A|20021202|09:30:23|19.75| 1000|\n|     A|20021202|09:30:23|19.75| 3000|\n|     A|20021202|09:30:23|19.75|  100|\n+------+--------+--------+-----+-----+\nonly showing top 20 rows\n\n"
     ]
    }
   ],
   "source": [
    "df.show()"
   ]
  },
  {
   "cell_type": "code",
   "execution_count": 4,
   "metadata": {},
   "outputs": [],
   "source": [
    "# patition a window to calculcate the u_sequence\n",
    "w = Window().partitionBy('SYMBOL', 'DATE').orderBy('TIME')\n",
    "\n",
    "# calculate the u_sequence\n",
    "df = df.withColumn('PRICE_1', f.lead('PRICE').over(w))\n",
    "df = df.withColumn('LOG_RETURN', f.log(df.PRICE_1/df.PRICE))\n",
    "\n",
    "# patition a window to calculate the moving standard deviation\n",
    "window_period = 100\n",
    "w2 = Window().partitionBy('SYMBOL', 'DATE').orderBy('TIME').rowsBetween(0, window_period)\n",
    "df = df.withColumn('VOLATILITY', f.stddev(df['LOG_RETURN']).over(w2))"
   ]
  },
  {
   "cell_type": "code",
   "execution_count": 5,
   "metadata": {},
   "outputs": [
    {
     "name": "stdout",
     "output_type": "stream",
     "text": [
      "+------+--------+--------+-----+------+-------+--------------------+--------------------+\n|SYMBOL|    DATE|    TIME|PRICE|  SIZE|PRICE_1|          LOG_RETURN|          VOLATILITY|\n+------+--------+--------+-----+------+-------+--------------------+--------------------+\n|     A|20030313|09:31:56|12.85| 100.0|  12.85|                 0.0|0.001200364347379...|\n|     A|20030313|09:31:56|12.85| 100.0|  12.85|                 0.0|0.001241718939716...|\n|     A|20030313|09:32:53| 12.9| 500.0|   12.9|                 0.0|0.001251768962410...|\n|     A|20030313|09:33:42| 12.9|1600.0|  12.93|0.002322881416139...|0.001198128050389...|\n|     A|20030313|09:34:23|12.86| 600.0|  12.89|0.002330098141622...|9.932908648948929E-4|\n|     A|20030313|09:34:31|12.89| 300.0|  12.88|-7.76096274888403...|9.655208706825252E-4|\n|     A|20030313|09:36:18|12.83| 400.0|   12.8|-0.00234100770197...|8.759937301650406E-4|\n|     A|20030313|09:37:50|12.82|3400.0|   12.8|-0.00156128056695...|8.158317566504872E-4|\n|     A|20030313|09:38:18| 12.8| 300.0|   12.8|                 0.0|8.101120038332188E-4|\n|     A|20030313|09:39:36| 12.8|1500.0|  12.81| 7.80944983071351E-4|8.101120038332191E-4|\n|     A|20030313|09:39:43|12.81| 500.0|  12.81|                 0.0|8.237454912010959E-4|\n|     A|20030313|09:41:18|12.81| 100.0|  12.81|                 0.0|8.464630093426404E-4|\n|     A|20030313|09:41:21|12.81| 200.0|  12.81|                 0.0|8.509472198765502E-4|\n|     A|20030313|09:41:45| 12.8| 300.0|   12.8|                 0.0|8.510027953749628E-4|\n|     A|20030313|09:42:30|12.81| 600.0|  12.81|                 0.0|8.656813972964137E-4|\n|     A|20030313|09:43:32| 12.8| 100.0|  12.82|0.001561280566952...|8.661264944078238E-4|\n|     A|20030313|09:43:55| 12.8| 900.0|  12.81| 7.80944983071351E-4| 8.40374314316861E-4|\n|     A|20030313|09:45:14|12.79| 500.0|  12.78|-7.82166641362505E-4|7.927910872402954E-4|\n|     A|20030313|09:46:14|12.75| 400.0|  12.75|                 0.0|7.447124859266051E-4|\n|     A|20030313|09:46:16|12.75| 200.0|  12.75|                 0.0|7.566700392401487E-4|\n+------+--------+--------+-----+------+-------+--------------------+--------------------+\nonly showing top 20 rows\n\n"
     ]
    }
   ],
   "source": [
    "df_A = df.where(df['SYMBOL'] == 'A').select('*').sample(False, 0.2)\n",
    "df_A.toPandas"
   ]
  },
  {
   "cell_type": "code",
   "execution_count": 36,
   "metadata": {},
   "outputs": [],
   "source": [
    "test = df.sampleBy('SYMBOL', fractions={'A': 0.005, 'AA': 0.005, 'AAP':0.005, 'AAI': 0.005})"
   ]
  },
  {
   "cell_type": "code",
   "execution_count": 37,
   "metadata": {},
   "outputs": [],
   "source": [
    "df_pd = test.toPandas()"
   ]
  },
  {
   "cell_type": "code",
   "execution_count": 38,
   "metadata": {},
   "outputs": [
    {
     "data": {
      "text/html": [
       "<div>\n",
       "<table border=\"1\" class=\"dataframe\">\n",
       "  <thead>\n",
       "    <tr style=\"text-align: right;\">\n",
       "      <th></th>\n",
       "      <th>SYMBOL</th>\n",
       "      <th>DATE</th>\n",
       "      <th>TIME</th>\n",
       "      <th>PRICE</th>\n",
       "      <th>SIZE</th>\n",
       "      <th>PRICE_1</th>\n",
       "      <th>LOG_RETURN</th>\n",
       "      <th>VOLATILITY</th>\n",
       "    </tr>\n",
       "  </thead>\n",
       "  <tbody>\n",
       "    <tr>\n",
       "      <th>0</th>\n",
       "      <td>AAI</td>\n",
       "      <td>20030121</td>\n",
       "      <td>10:25:04</td>\n",
       "      <td>4.98</td>\n",
       "      <td>100.0</td>\n",
       "      <td>4.95</td>\n",
       "      <td>-0.006042</td>\n",
       "      <td>0.004705</td>\n",
       "    </tr>\n",
       "    <tr>\n",
       "      <th>1</th>\n",
       "      <td>AAI</td>\n",
       "      <td>20030321</td>\n",
       "      <td>10:21:14</td>\n",
       "      <td>6.22</td>\n",
       "      <td>1000.0</td>\n",
       "      <td>6.22</td>\n",
       "      <td>0.000000</td>\n",
       "      <td>0.001575</td>\n",
       "    </tr>\n",
       "    <tr>\n",
       "      <th>2</th>\n",
       "      <td>AAI</td>\n",
       "      <td>20030321</td>\n",
       "      <td>11:40:36</td>\n",
       "      <td>6.25</td>\n",
       "      <td>100.0</td>\n",
       "      <td>6.25</td>\n",
       "      <td>0.000000</td>\n",
       "      <td>0.009540</td>\n",
       "    </tr>\n",
       "    <tr>\n",
       "      <th>3</th>\n",
       "      <td>AAI</td>\n",
       "      <td>20030321</td>\n",
       "      <td>12:42:04</td>\n",
       "      <td>6.55</td>\n",
       "      <td>200.0</td>\n",
       "      <td>6.55</td>\n",
       "      <td>0.000000</td>\n",
       "      <td>0.002280</td>\n",
       "    </tr>\n",
       "    <tr>\n",
       "      <th>4</th>\n",
       "      <td>AAI</td>\n",
       "      <td>20030321</td>\n",
       "      <td>14:26:21</td>\n",
       "      <td>6.49</td>\n",
       "      <td>1500.0</td>\n",
       "      <td>6.48</td>\n",
       "      <td>-0.001542</td>\n",
       "      <td>0.003299</td>\n",
       "    </tr>\n",
       "  </tbody>\n",
       "</table>\n",
       "</div>"
      ],
      "text/plain": [
       "<div>\n",
       "<table border=\"1\" class=\"dataframe\">\n",
       "  <thead>\n",
       "    <tr style=\"text-align: right;\">\n",
       "      <th></th>\n",
       "      <th>SYMBOL</th>\n",
       "      <th>DATE</th>\n",
       "      <th>TIME</th>\n",
       "      <th>PRICE</th>\n",
       "      <th>SIZE</th>\n",
       "      <th>PRICE_1</th>\n",
       "      <th>LOG_RETURN</th>\n",
       "      <th>VOLATILITY</th>\n",
       "    </tr>\n",
       "  </thead>\n",
       "  <tbody>\n",
       "    <tr>\n",
       "      <th>0</th>\n",
       "      <td>AAI</td>\n",
       "      <td>20030121</td>\n",
       "      <td>10:25:04</td>\n",
       "      <td>4.98</td>\n",
       "      <td>100.0</td>\n",
       "      <td>4.95</td>\n",
       "      <td>-0.006042</td>\n",
       "      <td>0.004705</td>\n",
       "    </tr>\n",
       "    <tr>\n",
       "      <th>1</th>\n",
       "      <td>AAI</td>\n",
       "      <td>20030321</td>\n",
       "      <td>10:21:14</td>\n",
       "      <td>6.22</td>\n",
       "      <td>1000.0</td>\n",
       "      <td>6.22</td>\n",
       "      <td>0.000000</td>\n",
       "      <td>0.001575</td>\n",
       "    </tr>\n",
       "    <tr>\n",
       "      <th>2</th>\n",
       "      <td>AAI</td>\n",
       "      <td>20030321</td>\n",
       "      <td>11:40:36</td>\n",
       "      <td>6.25</td>\n",
       "      <td>100.0</td>\n",
       "      <td>6.25</td>\n",
       "      <td>0.000000</td>\n",
       "      <td>0.009540</td>\n",
       "    </tr>\n",
       "    <tr>\n",
       "      <th>3</th>\n",
       "      <td>AAI</td>\n",
       "      <td>20030321</td>\n",
       "      <td>12:42:04</td>\n",
       "      <td>6.55</td>\n",
       "      <td>200.0</td>\n",
       "      <td>6.55</td>\n",
       "      <td>0.000000</td>\n",
       "      <td>0.002280</td>\n",
       "    </tr>\n",
       "    <tr>\n",
       "      <th>4</th>\n",
       "      <td>AAI</td>\n",
       "      <td>20030321</td>\n",
       "      <td>14:26:21</td>\n",
       "      <td>6.49</td>\n",
       "      <td>1500.0</td>\n",
       "      <td>6.48</td>\n",
       "      <td>-0.001542</td>\n",
       "      <td>0.003299</td>\n",
       "    </tr>\n",
       "  </tbody>\n",
       "</table>\n",
       "</div>"
      ]
     },
     "execution_count": 38,
     "metadata": {},
     "output_type": "execute_result"
    }
   ],
   "source": [
    "df_pd.head()"
   ]
  },
  {
   "cell_type": "code",
   "execution_count": 41,
   "metadata": {},
   "outputs": [
    {
     "name": "stdout",
     "output_type": "stream",
     "text": [
      "Using matplotlib backend: MacOSX\n"
     ]
    }
   ],
   "source": [
    "%matplotlib\n",
    "from matplotlib import pyplot as plt\n",
    "import pandas as pd\n",
    "\n",
    "fig, axes = plt.subplots(nrows=4, ncols=1)\n",
    "i = 1\n",
    "for symbol in ['A', 'AA', 'AAI', 'AAP']:\n",
    "    plt.subplot(4, 1, i)\n",
    "    plt.plot(df_pd.loc[df_pd.SYMBOL == symbol,  'VOLATILITY'], label=symbol)\n",
    "    i+=1\n",
    "    #plt.ylim(0, 0.005)\n",
    "\n",
    "    plt.legend(loc='upper right')\n",
    "\n",
    "plt.suptitle('Realized Volatility')\n",
    "\n",
    "fig.savefig('Realized_Vol.png')"
   ]
  },
  {
   "cell_type": "code",
   "execution_count": null,
   "metadata": {},
   "outputs": [],
   "source": [
    ""
   ]
  },
  {
   "cell_type": "code",
   "execution_count": 5,
   "metadata": {},
   "outputs": [],
   "source": [
    "df.write.csv('result0527.csv')\n",
    "\n",
    "# df.toPandas().to_csv('newaa_result.csv')\n",
    "# df.write.format('com.databricks.spark.csv').save('newaa_result.csv')"
   ]
  },
  {
   "cell_type": "code",
   "execution_count": null,
   "metadata": {},
   "outputs": [],
   "source": [
    ""
   ]
  },
  {
   "cell_type": "code",
   "execution_count": null,
   "metadata": {},
   "outputs": [],
   "source": [
    ""
   ]
  }
 ],
 "metadata": {
  "kernelspec": {
   "display_name": "Python 2",
   "language": "python",
   "name": "python2"
  },
  "language_info": {
   "codemirror_mode": {
    "name": "ipython",
    "version": 2.0
   },
   "file_extension": ".py",
   "mimetype": "text/x-python",
   "name": "python",
   "nbconvert_exporter": "python",
   "pygments_lexer": "ipython2",
   "version": "2.7.6"
  }
 },
 "nbformat": 4,
 "nbformat_minor": 0
}