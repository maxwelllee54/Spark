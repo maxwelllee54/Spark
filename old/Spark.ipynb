{
 "cells": [
  {
   "cell_type": "code",
   "execution_count": 5,
   "metadata": {},
   "outputs": [
    {
     "name": "stdout",
     "output_type": "stream",
     "text": [
      "Python 3.5.2 |Anaconda custom (x86_64)| (default, Jul  2 2016, 17:52:12) \n[GCC 4.2.1 Compatible Apple LLVM 4.2 (clang-425.0.28)] on darwin\n"
     ]
    }
   ],
   "source": [
    "import sys; print('Python %s on %s' % (sys.version, sys.platform))\n",
    "sys.path.extend(['/usr/local/Cellar/apache-spark/2.1.0/libexec'\n",
    "                    , '/usr/local/Cellar/apache-spark/2.1.0/libexec/python/lib/pyspark.zip'])"
   ]
  },
  {
   "cell_type": "code",
   "execution_count": 6,
   "metadata": {},
   "outputs": [],
   "source": [
    "SPARK_HOME = '/usr/local/Cellar/apache-spark/2.1.0/libexec'"
   ]
  },
  {
   "cell_type": "code",
   "execution_count": 16,
   "metadata": {
    "collapsed": false
   },
   "outputs": [],
   "source": [
    "from pyspark import SparkContext, SparkConf\n",
    "from pyspark.sql import SQLContext\n",
    "\n",
    "\n",
    "conf = SparkConf().setMaster(\"local[*]\").setAppName('HTF_Vol').set('spark.executor.memory', '2g')\n",
    "sc = SparkContext(conf=conf)\n",
    "spark = SQLContext(sc)"
   ]
  },
  {
   "cell_type": "code",
   "execution_count": null,
   "metadata": {
    "collapsed": false
   },
   "outputs": [],
   "source": [
    "lst = []\n",
    "\n",
    "df = spark.read.csv('ctauto.csv', header=True)\n",
    "print(df.printSchema())\n",
    "print(df.select(['SYMBOL', 'DATE', 'TIME', 'PRICE','SIZE']).show(n=10))"
   ]
  },
  {
   "cell_type": "code",
   "execution_count": 14,
   "metadata": {},
   "outputs": [],
   "source": [
    "import os \n",
    "os.environ['SPARK_HOME'] = '/usr/local/Cellar/apache-spark/2.1.0/libexec/'"
   ]
  },
  {
   "cell_type": "code",
   "execution_count": 4,
   "metadata": {},
   "outputs": [
    {
     "data": {
      "text/plain": [
       "environ({'Apple_PubSub_Socket_Render': '/private/tmp/com.apple.launchd.Nse2Onk8CV/Render', 'PAGER': 'cat', 'JPY_PARENT_PID': '21144', 'TERM': 'xterm-color', 'TMPDIR': '/var/folders/19/jkj9b5j54mj1_xw3dv56ylbc0000gn/T/', 'USER': 'Maxwell', 'DISPLAY': '/private/tmp/com.apple.launchd.A3RNX3XDLa/org.macosforge.xquartz:0', 'PWD': '/Users/Maxwell/PycharmProjects/Spark', 'SSH_AUTH_SOCK': '/private/tmp/com.apple.launchd.3lIxijHQEh/Listeners', 'CLICOLOR': '1', 'GIT_PAGER': 'cat', 'XPC_SERVICE_NAME': 'com.jetbrains.pycharm.16976', 'LC_CTYPE': 'en_US.UTF-8', 'XPC_FLAGS': '0x0', 'SHELL': '/bin/bash', 'PATH': '/Library/Frameworks/Python.framework/Versions/3.5/bin:/Users/Maxwell/anaconda/bin:/Library/Frameworks/Python.framework/Versions/3.4/bin:/usr/local/bin:/usr/bin:/bin:/usr/sbin:/sbin:/opt/X11/bin', 'HOME': '/Users/Maxwell', 'LOGNAME': 'Maxwell', '__CF_USER_TEXT_ENCODING': '0x1F5:0x0:0x0'})"
      ]
     },
     "execution_count": 4,
     "metadata": {},
     "output_type": "execute_result"
    }
   ],
   "source": [
    "import os \n",
    "os.environ"
   ]
  },
  {
   "cell_type": "code",
   "execution_count": null,
   "metadata": {},
   "outputs": [],
   "source": [
    ""
   ]
  }
 ],
 "metadata": {},
 "nbformat": 4,
 "nbformat_minor": 0
}