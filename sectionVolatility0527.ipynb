{
 "cells": [
  {
   "cell_type": "code",
   "execution_count": 1,
   "metadata": {
    "collapsed": true
   },
   "outputs": [],
   "source": [
    "from pyspark.sql import SparkSession, functions as f\n",
    "from pyspark.sql.window import Window\n",
    "from pyspark.sql.types import DoubleType"
   ]
  },
  {
   "cell_type": "code",
   "execution_count": 11,
   "metadata": {},
   "outputs": [],
   "source": [
    "spark = SparkSession.builder.master('local[*]').appName('HTF_Vol').getOrCreate()\n",
    "spark.conf.set(\"spark.executor.memory\", \"2g\")\n",
    "\n",
    "df = spark.read.csv('newaa.csv', header=True)\n",
    "df = df.withColumn('TIME', f.date_format(df.TIME, 'HH:mm:ss'))\n",
    "df = df.withColumn('PRICE', df['PRICE'].cast(DoubleType()))\n",
    "df = df.withColumn('SIZE', df['SIZE'].cast(DoubleType()))"
   ]
  },
  {
   "cell_type": "code",
   "execution_count": 12,
   "metadata": {},
   "outputs": [],
   "source": [
    "# patition a window to calculcate the u_sequence\n",
    "w = Window().partitionBy('SYMBOL', 'DATE').orderBy('TIME')\n",
    "\n",
    "# calculate the u_sequence\n",
    "df = df.withColumn('PRICE_1', f.lead('PRICE').over(w))\n",
    "df = df.withColumn('LOG_RETURN', f.log(df.PRICE_1/df.PRICE))\n",
    "\n",
    "\n",
    "# patition a window to calculate the moving standard deviation\n",
    "window_period = 100\n",
    "w2 = Window().partitionBy('SYMBOL', 'DATE').orderBy('TIME').rowsBetween(0, window_period)\n",
    "df = df.withColumn('VOLATILITY', f.stddev(df['LOG_RETURN']).over(w2))"
   ]
  },
  {
   "cell_type": "code",
   "execution_count": 6,
   "metadata": {},
   "outputs": [
    {
     "name": "stdout",
     "output_type": "stream",
     "text": [
      "+------+--------+--------+-----+------+-------+--------------------+--------------------+\n|SYMBOL|    DATE|    TIME|PRICE|  SIZE|PRICE_1|          LOG_RETURN|          VOLATILITY|\n+------+--------+--------+-----+------+-------+--------------------+--------------------+\n|   AAI|20021211|09:30:43| 3.77|1400.0|   3.77|                 0.0|0.006507521208565777|\n|   AAI|20021211|09:30:44| 3.77| 100.0|   3.77|                 0.0|0.006510356653572...|\n|   AAI|20021211|09:30:44| 3.77| 100.0|   3.77|                 0.0|0.006510356653572328|\n|   AAI|20021211|09:30:59| 3.77| 200.0|   3.77|                 0.0|0.006510356653572...|\n|   AAI|20021211|09:30:59| 3.77| 800.0|   3.81|0.010554187678690171|0.006510356653572...|\n|   AAI|20021211|09:33:11| 3.81|1000.0|    3.8|-0.00262812240626...|0.006432192089653349|\n|   AAI|20021211|09:33:25|  3.8|1100.0|    3.8|                 0.0|0.006474316635355122|\n|   AAI|20021211|09:35:08|  3.8| 100.0|    3.8|                 0.0|0.006474316635355123|\n|   AAI|20021211|09:35:37|  3.8| 200.0|   3.81| 0.00262812240626963|0.006513492388657429|\n|   AAI|20021211|09:36:12| 3.81| 400.0|   3.81|                 0.0|0.006513107616172...|\n|   AAI|20021211|09:36:58| 3.81| 300.0|    3.8|-0.00262812240626...|0.006513107616172095|\n|   AAI|20021211|09:37:52|  3.8| 100.0|   3.84|0.010471299867295437|0.006505904473575464|\n|   AAI|20021211|09:43:51| 3.84| 100.0|   3.84|                 0.0|0.006428111944606004|\n|   AAI|20021211|09:43:51| 3.84| 100.0|   3.84|                 0.0|0.006428111944606004|\n|   AAI|20021211|09:45:01| 3.84| 900.0|   3.84|                 0.0|0.006428111944606...|\n|   AAI|20021211|09:45:13| 3.84| 100.0|   3.84|                 0.0|0.006428111944606006|\n|   AAI|20021211|09:45:35| 3.84|1000.0|   3.85|0.002600781700057...|0.006556738087172078|\n|   AAI|20021211|09:46:10| 3.85|4200.0|   3.89|0.010336009330662073|0.006552537214308059|\n|   AAI|20021211|09:47:41| 3.89| 100.0|   3.89|                 0.0|0.006591414287456946|\n|   AAI|20021211|09:47:44| 3.89| 100.0|   3.92|0.007682496172016211|0.006591414287456946|\n+------+--------+--------+-----+------+-------+--------------------+--------------------+\nonly showing top 20 rows\n\n"
     ]
    }
   ],
   "source": [
    "df.show()"
   ]
  },
  {
   "cell_type": "code",
   "execution_count": 13,
   "metadata": {},
   "outputs": [],
   "source": [
    "seconds = 300\n",
    "timeFormat = 'HH:mm:ss'\n",
    "seconds_window = f.from_unixtime(f.unix_timestamp('TIME', format='HH:mm:ss') - \n",
    "                  f.unix_timestamp('TIME', format='HH:mm:ss') % seconds, format='HH:mm:ss')"
   ]
  },
  {
   "cell_type": "code",
   "execution_count": 14,
   "metadata": {},
   "outputs": [],
   "source": [
    "df = df.withColumn('5_min_window', seconds_window)\n",
    "\n",
    "#df_AA = df.where(df['SYMBOL'] == 'A').select('*')"
   ]
  },
  {
   "cell_type": "code",
   "execution_count": 15,
   "metadata": {},
   "outputs": [],
   "source": [
    "new_df = df.groupby('SYMBOL', 'DATE', '5_min_window').agg(\n",
    "    f.avg('VOLATILITY').alias('avgVol'),\n",
    "    f.avg('PRICE').alias('avgPrice'),\n",
    "    f.avg('SIZE').alias('avgSize'))"
   ]
  },
  {
   "cell_type": "code",
   "execution_count": 16,
   "metadata": {
    "collapsed": true
   },
   "outputs": [
    {
     "name": "stdout",
     "output_type": "stream",
     "text": [
      "+------+--------+------------+--------------------+------------------+------------------+\n|SYMBOL|    DATE|5_min_window|              avgVol|          avgPrice|           avgSize|\n+------+--------+------------+--------------------+------------------+------------------+\n|   AAI|20021211|    09:30:00|0.006493636649694794|3.7800000000000002| 671.4285714285714|\n|   AAI|20021211|    09:35:00|0.006503985745986441|             3.804|             220.0|\n|   AAI|20021211|    09:40:00|0.006428111944606004|              3.84|             100.0|\n|   AAI|20021211|    09:45:00| 0.00654065911641249|3.8737500000000002|            1125.0|\n|   AAI|20021211|    09:50:00|0.006612866177576418|3.9170000000000003|             380.0|\n|   AAI|20021211|    09:55:00|0.006335501674427891|3.8850000000000002|             475.0|\n|   AAI|20021211|    10:00:00|0.005581250230737032|3.8833333333333333|             450.0|\n|   AAI|20021211|    10:05:00|0.004583329886594783|3.8800000000000003|            3200.0|\n|   AAI|20021211|    10:10:00|0.004278897773743...|               3.9|            3500.0|\n|   AAI|20021211|    10:15:00|0.004264270511193245| 3.902857142857143| 314.2857142857143|\n|   AAI|20021211|    10:20:00|0.003955076239272318|3.9133333333333336| 366.6666666666667|\n|   AAI|20021211|    10:30:00|0.003791510544309549|             3.915|            2450.0|\n|   AAI|20021211|    10:35:00|0.003544943876318...|              3.93|             925.0|\n|   AAI|20021211|    10:40:00|0.003540987396748219|3.9437499999999996|             800.0|\n|   AAI|20021211|    10:45:00|0.003552311244275841|3.9525000000000006|            1100.0|\n|   AAI|20021211|    10:50:00|0.003536286224578...|              3.95|            2300.0|\n|   AAI|20021211|    10:55:00|0.002947237552827417| 3.893333333333333|1266.6666666666667|\n|   AAI|20021211|    11:00:00|0.002853412763112...|             3.895|             350.0|\n|   AAI|20021211|    11:05:00|0.002804366357258...|              3.92|             500.0|\n|   AAI|20021211|    11:10:00|0.002809519219539587|              3.92|             100.0|\n+------+--------+------------+--------------------+------------------+------------------+\nonly showing top 20 rows\n\n"
     ]
    }
   ],
   "source": [
    "new_df.show()"
   ]
  },
  {
   "cell_type": "code",
   "execution_count": 17,
   "metadata": {},
   "outputs": [],
   "source": [
    "w3 = Window().partitionBy('SYMBOL', 'DATE').orderBy('5_min_window')\n",
    "\n",
    "# calculate the u_sequence\n",
    "new_df = new_df.withColumn('PRICE_1', f.lead('avgPrice').over(w3))\n",
    "new_df = new_df.withColumn('U_SEQ', f.log(new_df.PRICE_1/new_df.avgPrice))\n",
    "new_df = new_df.withColumn('Num', f.lit(1))\n",
    "new_df = new_df.withColumn('totalSum', f.sum('Num').over(w3))\n",
    "new_df = new_df.withColumn('sumSqaures', f.sum(f.pow(new_df.U_SEQ, 2)).over(w3)/(new_df.totalSum - f.lit(1)))\n",
    "new_df = new_df.withColumn('suqareSums', f.pow(f.sum(new_df.U_SEQ).over(w3), 2)/((new_df.totalSum - f.lit(1)) \n",
    "                                                                                * new_df.totalSum))\n",
    "new_df = new_df.withColumn('sectionVol', f.sqrt(new_df.sumSqaures - new_df.suqareSums))\n",
    "\n",
    "\n",
    "\n",
    "\n",
    "#section_volatility = f.sqrt(f.sum(f.pow(new_df.U_SEQ, 2)).over(w3)/(new_df.totalSum - f.lit(1)) \n",
    "#                            - f.pow(f.sum(new_df.U_SEQ).over(w3), 2)/((new_df.totalSum - f.lit(1) * new_df.totalSum)))\n",
    "\n",
    "\n",
    "#new_df = new_df.withColumn('sectionVol', section_volatility)\n",
    "#df = df.withColumn('cumSum', f.sum('PRICE').over(w))\n",
    "\n",
    "#df = df.withColumn('count', f.lit(1))\n",
    "#df = df.withColumn('totalNum', f.sum('count').over(w))"
   ]
  },
  {
   "cell_type": "code",
   "execution_count": 62,
   "metadata": {
    "collapsed": true
   },
   "outputs": [
    {
     "name": "stdout",
     "output_type": "stream",
     "text": [
      "+------+--------+------------+--------------------+------------------+------------------+------------------+--------------------+---+--------+--------------------+--------------------+--------------------+\n|SYMBOL|    DATE|5_min_window|              avgVol|          avgPrice|           avgSize|           PRICE_1|               U_SEQ|Num|totalSum|          sumSqaures|          suqareSums|          sectionVol|\n+------+--------+------------+--------------------+------------------+------------------+------------------+--------------------+---+--------+--------------------+--------------------+--------------------+\n|   AAI|20021211|    09:30:00|0.006493636649694794|3.7800000000000002| 671.4285714285714|             3.804| 0.00632913505164753|  1|       1|                null|                null|                null|\n|   AAI|20021211|    09:35:00|0.006503985745986441|             3.804|             220.0|              3.84|0.009419221916491558|  1|       2|1.287796920141082...|1.240053735979674...|0.002185021376586...|\n|   AAI|20021211|    09:40:00|0.006428111944606004|              3.84|             100.0|3.8737500000000002|0.008750663520185453|  1|       3|1.026769020288063...|1.000336674812242...|0.001625802739443...|\n|   AAI|20021211|    09:45:00| 0.00654065911641249|3.8737500000000002|            1125.0|3.9170000000000003|0.011103024563873305|  1|       4|1.095436528411955...|1.056254676582270...|0.001979440623754...|\n|   AAI|20021211|    09:50:00|0.006612866177576418|3.9170000000000003|             380.0|3.8850000000000002|-0.00820307086408354|  1|       5|9.898033253119075E-5|3.753518932804769E-5|0.007838695248773425|\n|   AAI|20021211|    09:55:00|0.006335501674427891|3.8850000000000002|             475.0|3.8833333333333333|-4.29092476010968...|  1|       6|7.922109009554644E-5|2.424581731882819E-5|0.007414531190622793|\n|   AAI|20021211|    10:00:00|0.005581250230737032|3.8833333333333333|             450.0|3.8800000000000003|-8.58737708417758...|  1|       7|6.614048015493179E-5|1.623313907574298E-5|0.007064512798430534|\n|   AAI|20021211|    10:05:00|0.004583329886594783|3.8800000000000003|            3200.0|               3.9|0.005141399500418652|  1|       8|6.046812425035656E-5|1.744145491921298...| 0.00655947172652978|\n|   AAI|20021211|    10:10:00|0.004278897773743...|               3.9|            3500.0| 3.902857142857143|7.323325116752631E-4|  1|       9|5.297664758251906...|1.420878185756647E-5|0.006226384643190027|\n|   AAI|20021211|    10:15:00|0.004264270511193245| 3.902857142857143| 314.2857142857143|3.9133333333333336|0.002680640084564...|  1|      10|4.788877910256976E-5|1.335220007225806...|0.005876783051152...|\n|   AAI|20021211|    10:20:00|0.003955076239272318|3.9133333333333336| 366.6666666666667|             3.915|4.258037109255872...|  1|      11|4.311803207233658...|1.119455205542562E-5|0.005650086726494644|\n|   AAI|20021211|    10:30:00|0.003791510544309549|             3.915|            2450.0|              3.93|0.003824096438403...|  1|      12|4.052763948123418E-5|1.147280016579800...|0.005390254104904162|\n|   AAI|20021211|    10:35:00|0.003544943876318...|              3.93|             925.0|3.9437499999999996|0.003492621426216268|  1|      13|3.816686989337008...|1.152847217640813...|0.005161239939875102|\n|   AAI|20021211|    10:40:00|0.003540987396748219|3.9437499999999996|             800.0|3.9525000000000006|0.002216242794104131|  1|      14|3.560878237252765E-5|1.094135388716846...|0.004966631502875887|\n|   AAI|20021211|    10:45:00|0.003552311244275841|3.9525000000000006|            1100.0|              3.95|-6.32711188459620...|  1|      15|3.309389244934725E-5|9.215515085009583E-6|0.004886550661186034|\n|   AAI|20021211|    10:50:00|0.003536286224578...|              3.95|            2300.0| 3.893333333333333|-0.01444989018105...|  1|      16|4.480758803570238E-5|3.636295016980949E-6|0.006416486033548381|\n|   AAI|20021211|    10:55:00|0.002947237552827417| 3.893333333333333|1266.6666666666667|             3.895|4.279905907402669E-4|  1|      17|4.201856228008112E-5|3.302136402207842E-6|0.006222252476223805|\n|   AAI|20021211|    11:00:00|0.002853412763112...|             3.895|             350.0|              3.92|0.006397974479659...|  1|      18|4.195476905433376...| 4.32224033509593E-6|0.006134535737872...|\n|   AAI|20021211|    11:05:00|0.002804366357258...|              3.92|             500.0|              3.92|                 0.0|  1|      19|3.962394855131522E-5|3.867267668243726E-6|0.005979689028960578|\n|   AAI|20021211|    11:10:00|0.002809519219539587|              3.92|             100.0|3.9266666666666663|0.001699235752959...|  1|      20|3.769044610883212E-5|3.813387755620048E-6|0.005820400188407...|\n+------+--------+------------+--------------------+------------------+------------------+------------------+--------------------+---+--------+--------------------+--------------------+--------------------+\nonly showing top 20 rows\n\n"
     ]
    }
   ],
   "source": [
    "new_df.show()"
   ]
  },
  {
   "cell_type": "code",
   "execution_count": 22,
   "metadata": {},
   "outputs": [],
   "source": [
    "data_pd = new_df\\\n",
    "    .select('SYMBOL', 'DATE', '5_min_window', 'avgVol', 'avgPrice', 'avgSize', 'sectionVol')\\\n",
    "    .toPandas()"
   ]
  },
  {
   "cell_type": "code",
   "execution_count": 23,
   "metadata": {},
   "outputs": [
    {
     "data": {
      "text/html": [
       "<div>\n",
       "<table border=\"1\" class=\"dataframe\">\n",
       "  <thead>\n",
       "    <tr style=\"text-align: right;\">\n",
       "      <th></th>\n",
       "      <th>SYMBOL</th>\n",
       "      <th>DATE</th>\n",
       "      <th>5_min_window</th>\n",
       "      <th>avgVol</th>\n",
       "      <th>avgPrice</th>\n",
       "      <th>avgSize</th>\n",
       "      <th>sectionVol</th>\n",
       "    </tr>\n",
       "  </thead>\n",
       "  <tbody>\n",
       "    <tr>\n",
       "      <th>0</th>\n",
       "      <td>AAI</td>\n",
       "      <td>20021211</td>\n",
       "      <td>09:30:00</td>\n",
       "      <td>0.006494</td>\n",
       "      <td>3.78000</td>\n",
       "      <td>671.428571</td>\n",
       "      <td>NaN</td>\n",
       "    </tr>\n",
       "    <tr>\n",
       "      <th>1</th>\n",
       "      <td>AAI</td>\n",
       "      <td>20021211</td>\n",
       "      <td>09:35:00</td>\n",
       "      <td>0.006504</td>\n",
       "      <td>3.80400</td>\n",
       "      <td>220.000000</td>\n",
       "      <td>0.002185</td>\n",
       "    </tr>\n",
       "    <tr>\n",
       "      <th>2</th>\n",
       "      <td>AAI</td>\n",
       "      <td>20021211</td>\n",
       "      <td>09:40:00</td>\n",
       "      <td>0.006428</td>\n",
       "      <td>3.84000</td>\n",
       "      <td>100.000000</td>\n",
       "      <td>0.001626</td>\n",
       "    </tr>\n",
       "    <tr>\n",
       "      <th>3</th>\n",
       "      <td>AAI</td>\n",
       "      <td>20021211</td>\n",
       "      <td>09:45:00</td>\n",
       "      <td>0.006541</td>\n",
       "      <td>3.87375</td>\n",
       "      <td>1125.000000</td>\n",
       "      <td>0.001979</td>\n",
       "    </tr>\n",
       "    <tr>\n",
       "      <th>4</th>\n",
       "      <td>AAI</td>\n",
       "      <td>20021211</td>\n",
       "      <td>09:50:00</td>\n",
       "      <td>0.006613</td>\n",
       "      <td>3.91700</td>\n",
       "      <td>380.000000</td>\n",
       "      <td>0.007839</td>\n",
       "    </tr>\n",
       "  </tbody>\n",
       "</table>\n",
       "</div>"
      ],
      "text/plain": [
       "<div>\n",
       "<table border=\"1\" class=\"dataframe\">\n",
       "  <thead>\n",
       "    <tr style=\"text-align: right;\">\n",
       "      <th></th>\n",
       "      <th>SYMBOL</th>\n",
       "      <th>DATE</th>\n",
       "      <th>5_min_window</th>\n",
       "      <th>avgVol</th>\n",
       "      <th>avgPrice</th>\n",
       "      <th>avgSize</th>\n",
       "      <th>sectionVol</th>\n",
       "    </tr>\n",
       "  </thead>\n",
       "  <tbody>\n",
       "    <tr>\n",
       "      <th>0</th>\n",
       "      <td>AAI</td>\n",
       "      <td>20021211</td>\n",
       "      <td>09:30:00</td>\n",
       "      <td>0.006494</td>\n",
       "      <td>3.78000</td>\n",
       "      <td>671.428571</td>\n",
       "      <td>NaN</td>\n",
       "    </tr>\n",
       "    <tr>\n",
       "      <th>1</th>\n",
       "      <td>AAI</td>\n",
       "      <td>20021211</td>\n",
       "      <td>09:35:00</td>\n",
       "      <td>0.006504</td>\n",
       "      <td>3.80400</td>\n",
       "      <td>220.000000</td>\n",
       "      <td>0.002185</td>\n",
       "    </tr>\n",
       "    <tr>\n",
       "      <th>2</th>\n",
       "      <td>AAI</td>\n",
       "      <td>20021211</td>\n",
       "      <td>09:40:00</td>\n",
       "      <td>0.006428</td>\n",
       "      <td>3.84000</td>\n",
       "      <td>100.000000</td>\n",
       "      <td>0.001626</td>\n",
       "    </tr>\n",
       "    <tr>\n",
       "      <th>3</th>\n",
       "      <td>AAI</td>\n",
       "      <td>20021211</td>\n",
       "      <td>09:45:00</td>\n",
       "      <td>0.006541</td>\n",
       "      <td>3.87375</td>\n",
       "      <td>1125.000000</td>\n",
       "      <td>0.001979</td>\n",
       "    </tr>\n",
       "    <tr>\n",
       "      <th>4</th>\n",
       "      <td>AAI</td>\n",
       "      <td>20021211</td>\n",
       "      <td>09:50:00</td>\n",
       "      <td>0.006613</td>\n",
       "      <td>3.91700</td>\n",
       "      <td>380.000000</td>\n",
       "      <td>0.007839</td>\n",
       "    </tr>\n",
       "  </tbody>\n",
       "</table>\n",
       "</div>"
      ]
     },
     "execution_count": 23,
     "metadata": {},
     "output_type": "execute_result"
    }
   ],
   "source": [
    "data_pd.head()"
   ]
  },
  {
   "cell_type": "code",
   "execution_count": 13,
   "metadata": {},
   "outputs": [],
   "source": [
    "df_pd = data_pd.copy()"
   ]
  },
  {
   "cell_type": "code",
   "execution_count": 14,
   "metadata": {},
   "outputs": [],
   "source": [
    "df_pd.columns = ['Symbol', 'Date', 'Time', 'Vol', 'Price', 'Size', 'Price_1', 'U_seq']"
   ]
  },
  {
   "cell_type": "code",
   "execution_count": 15,
   "metadata": {
    "collapsed": true
   },
   "outputs": [
    {
     "data": {
      "text/html": [
       "<div>\n",
       "<table border=\"1\" class=\"dataframe\">\n",
       "  <thead>\n",
       "    <tr style=\"text-align: right;\">\n",
       "      <th></th>\n",
       "      <th>Symbol</th>\n",
       "      <th>Date</th>\n",
       "      <th>Time</th>\n",
       "      <th>Vol</th>\n",
       "      <th>Price</th>\n",
       "      <th>Size</th>\n",
       "      <th>Price_1</th>\n",
       "      <th>U_seq</th>\n",
       "    </tr>\n",
       "  </thead>\n",
       "  <tbody>\n",
       "    <tr>\n",
       "      <th>0</th>\n",
       "      <td>AAI</td>\n",
       "      <td>20021211</td>\n",
       "      <td>09:30:00</td>\n",
       "      <td>0.006494</td>\n",
       "      <td>3.78000</td>\n",
       "      <td>671.428571</td>\n",
       "      <td>3.80400</td>\n",
       "      <td>0.006329</td>\n",
       "    </tr>\n",
       "    <tr>\n",
       "      <th>1</th>\n",
       "      <td>AAI</td>\n",
       "      <td>20021211</td>\n",
       "      <td>09:35:00</td>\n",
       "      <td>0.006504</td>\n",
       "      <td>3.80400</td>\n",
       "      <td>220.000000</td>\n",
       "      <td>3.84000</td>\n",
       "      <td>0.009419</td>\n",
       "    </tr>\n",
       "    <tr>\n",
       "      <th>2</th>\n",
       "      <td>AAI</td>\n",
       "      <td>20021211</td>\n",
       "      <td>09:40:00</td>\n",
       "      <td>0.006428</td>\n",
       "      <td>3.84000</td>\n",
       "      <td>100.000000</td>\n",
       "      <td>3.87375</td>\n",
       "      <td>0.008751</td>\n",
       "    </tr>\n",
       "    <tr>\n",
       "      <th>3</th>\n",
       "      <td>AAI</td>\n",
       "      <td>20021211</td>\n",
       "      <td>09:45:00</td>\n",
       "      <td>0.006541</td>\n",
       "      <td>3.87375</td>\n",
       "      <td>1125.000000</td>\n",
       "      <td>3.91700</td>\n",
       "      <td>0.011103</td>\n",
       "    </tr>\n",
       "    <tr>\n",
       "      <th>4</th>\n",
       "      <td>AAI</td>\n",
       "      <td>20021211</td>\n",
       "      <td>09:50:00</td>\n",
       "      <td>0.006613</td>\n",
       "      <td>3.91700</td>\n",
       "      <td>380.000000</td>\n",
       "      <td>3.88500</td>\n",
       "      <td>-0.008203</td>\n",
       "    </tr>\n",
       "  </tbody>\n",
       "</table>\n",
       "</div>"
      ],
      "text/plain": [
       "<div>\n",
       "<table border=\"1\" class=\"dataframe\">\n",
       "  <thead>\n",
       "    <tr style=\"text-align: right;\">\n",
       "      <th></th>\n",
       "      <th>Symbol</th>\n",
       "      <th>Date</th>\n",
       "      <th>Time</th>\n",
       "      <th>Vol</th>\n",
       "      <th>Price</th>\n",
       "      <th>Size</th>\n",
       "      <th>Price_1</th>\n",
       "      <th>U_seq</th>\n",
       "    </tr>\n",
       "  </thead>\n",
       "  <tbody>\n",
       "    <tr>\n",
       "      <th>0</th>\n",
       "      <td>AAI</td>\n",
       "      <td>20021211</td>\n",
       "      <td>09:30:00</td>\n",
       "      <td>0.006494</td>\n",
       "      <td>3.78000</td>\n",
       "      <td>671.428571</td>\n",
       "      <td>3.80400</td>\n",
       "      <td>0.006329</td>\n",
       "    </tr>\n",
       "    <tr>\n",
       "      <th>1</th>\n",
       "      <td>AAI</td>\n",
       "      <td>20021211</td>\n",
       "      <td>09:35:00</td>\n",
       "      <td>0.006504</td>\n",
       "      <td>3.80400</td>\n",
       "      <td>220.000000</td>\n",
       "      <td>3.84000</td>\n",
       "      <td>0.009419</td>\n",
       "    </tr>\n",
       "    <tr>\n",
       "      <th>2</th>\n",
       "      <td>AAI</td>\n",
       "      <td>20021211</td>\n",
       "      <td>09:40:00</td>\n",
       "      <td>0.006428</td>\n",
       "      <td>3.84000</td>\n",
       "      <td>100.000000</td>\n",
       "      <td>3.87375</td>\n",
       "      <td>0.008751</td>\n",
       "    </tr>\n",
       "    <tr>\n",
       "      <th>3</th>\n",
       "      <td>AAI</td>\n",
       "      <td>20021211</td>\n",
       "      <td>09:45:00</td>\n",
       "      <td>0.006541</td>\n",
       "      <td>3.87375</td>\n",
       "      <td>1125.000000</td>\n",
       "      <td>3.91700</td>\n",
       "      <td>0.011103</td>\n",
       "    </tr>\n",
       "    <tr>\n",
       "      <th>4</th>\n",
       "      <td>AAI</td>\n",
       "      <td>20021211</td>\n",
       "      <td>09:50:00</td>\n",
       "      <td>0.006613</td>\n",
       "      <td>3.91700</td>\n",
       "      <td>380.000000</td>\n",
       "      <td>3.88500</td>\n",
       "      <td>-0.008203</td>\n",
       "    </tr>\n",
       "  </tbody>\n",
       "</table>\n",
       "</div>"
      ]
     },
     "execution_count": 15,
     "metadata": {},
     "output_type": "execute_result"
    }
   ],
   "source": [
    "df_pd.head()"
   ]
  },
  {
   "cell_type": "code",
   "execution_count": 16,
   "metadata": {},
   "outputs": [],
   "source": [
    "import numpy as np\n",
    "def sectionVol(df):\n",
    "    data = df.copy()\n",
    "    \n",
    "    for i in data.index:\n",
    "        if i == 0:\n",
    "            data.loc[i, 'Section_Vol'] = np.nan\n",
    "        else:\n",
    "            data.loc[i, 'Section_Vol'] = np.sqrt(np.sum(np.power(data.loc[:i, 'U_seq'], 2))/i \n",
    "                                                 - np.power(np.sum(data.loc[:i, 'U_seq']), 2)/(i*(i+1)))\n",
    "    \n",
    "    print(data.head())\n",
    "    return data"
   ]
  },
  {
   "cell_type": "code",
   "execution_count": 17,
   "metadata": {},
   "outputs": [
    {
     "name": "stdout",
     "output_type": "stream",
     "text": [
      "    Symbol      Date      Time       Vol      Price         Size    Price_1  \\\n299     AA  20021219  09:30:00  0.000962  22.953175  1980.952381  23.043529   \n300     AA  20021219  09:35:00  0.000870  23.043529  2547.058824  23.080526   \n301     AA  20021219  09:40:00  0.001052  23.080526  2142.105263  23.158947   \n302     AA  20021219  09:45:00  0.001102  23.158947  1721.052632  23.237826   \n303     AA  20021219  09:50:00  0.001102  23.237826   943.478261  23.255652   \n\n        U_seq  Section_Vol  \n299  0.003929     0.000227  \n300  0.001604     0.000244  \n301  0.003392     0.000312  \n302  0.003400     0.000367  \n303  0.000767     0.000368  \n"
     ]
    },
    {
     "name": "stdout",
     "output_type": "stream",
     "text": [
      "  Symbol      Date      Time       Vol    Price         Size  Price_1  \\\n0    AAI  20021211  09:30:00  0.006494  3.78000   671.428571  3.80400   \n1    AAI  20021211  09:35:00  0.006504  3.80400   220.000000  3.84000   \n2    AAI  20021211  09:40:00  0.006428  3.84000   100.000000  3.87375   \n3    AAI  20021211  09:45:00  0.006541  3.87375  1125.000000  3.91700   \n4    AAI  20021211  09:50:00  0.006613  3.91700   380.000000  3.88500   \n\n      U_seq  Section_Vol  \n0  0.006329          NaN  \n1  0.009419     0.002185  \n2  0.008751     0.001626  \n3  0.011103     0.001979  \n4 -0.008203     0.007839  \n"
     ]
    },
    {
     "name": "stdout",
     "output_type": "stream",
     "text": [
      "    Symbol      Date      Time       Vol      Price         Size    Price_1  \\\n221      A  20030313  09:30:00  0.001187  12.875778  1637.777778  12.829583   \n222      A  20030313  09:35:00  0.000867  12.829583  1300.000000  12.809118   \n223      A  20030313  09:40:00  0.000849  12.809118   923.529412  12.752963   \n224      A  20030313  09:45:00  0.000752  12.752963   733.333333  12.721842   \n225      A  20030313  09:50:00  0.000762  12.721842   836.842105  12.690357   \n\n        U_seq  Section_Vol  \n221 -0.003594     0.000241  \n222 -0.001596     0.000263  \n223 -0.004394     0.000393  \n224 -0.002443     0.000423  \n225 -0.002478     0.000452  \n"
     ]
    },
    {
     "name": "stdout",
     "output_type": "stream",
     "text": [
      "    Symbol      Date      Time       Vol      Price         Size    Price_1  \\\n377    AAP  20030313  09:30:00  0.000664  40.858750   625.000000  41.028846   \n378    AAP  20030313  09:35:00  0.000499  41.028846  1273.076923  41.003571   \n379    AAP  20030313  09:40:00  0.000505  41.003571   553.571429  40.860556   \n380    AAP  20030313  09:45:00  0.000450  40.860556   422.222222  40.887407   \n381    AAP  20030313  09:50:00  0.000454  40.887407   618.518519  40.821053   \n\n        U_seq  Section_Vol  \n377  0.004154     0.000214  \n378 -0.000616     0.000216  \n379 -0.003494     0.000281  \n380  0.000657     0.000282  \n381 -0.001624     0.000294  \n"
     ]
    }
   ],
   "source": [
    "sectionVolatility = {}\n",
    "for symbol in set(df_pd.Symbol):\n",
    "    sectionVolatility[symbol] = sectionVol(df_pd.loc[df_pd.Symbol == symbol, :])"
   ]
  },
  {
   "cell_type": "code",
   "execution_count": 23,
   "metadata": {},
   "outputs": [
    {
     "name": "stdout",
     "output_type": "stream",
     "text": [
      "Using matplotlib backend: MacOSX\n"
     ]
    }
   ],
   "source": [
    "%matplotlib\n",
    "from matplotlib import pyplot as plt\n",
    "import pandas as pd\n",
    "fig, axes = plt.subplots(nrows=2, ncols=1)\n",
    "\n",
    "for symbol in sectionVolatility:\n",
    "    plt.subplot(2, 1, 1)\n",
    "    plt.plot(sectionVolatility[symbol].loc[:,  'Section_Vol'], label=symbol)\n",
    "    plt.legend(loc='upper right')\n",
    "    plt.subplot(2, 1, 2)\n",
    "    plt.plot(sectionVolatility[symbol].loc[:,  'Price'], label=symbol)\n",
    "    sectionVolatility[symbol].to_csv(symbol + '_SectionVol.csv')\n",
    "\n",
    "plt.suptitle('Section Volatility')\n",
    "#plt.ylabel('Section Volatility')\n",
    "plt.savefig('Section_Vol.png')"
   ]
  },
  {
   "cell_type": "code",
   "execution_count": 123,
   "metadata": {},
   "outputs": [
    {
     "data": {
      "text/plain": [
       "Date                   object\nTime                   object\nVol                   float64\nPrice                 float64\nSize                  float64\nPrice_1               float64\nU_seq                 float64\nSection_Vol           float64\nd              datetime64[ns]\ndtype: object"
      ]
     },
     "execution_count": 123,
     "metadata": {},
     "output_type": "execute_result"
    }
   ],
   "source": [
    "new_df.loc[:, 'd'] = pd.to_datetime(new_df.loc[:, 'Date'] + ' ' + new_df.loc[:, 'Time'])\n",
    "new_df.dtypes"
   ]
  },
  {
   "cell_type": "code",
   "execution_count": null,
   "metadata": {},
   "outputs": [],
   "source": [
    ""
   ]
  }
 ],
 "metadata": {
  "kernelspec": {
   "display_name": "Python 2",
   "language": "python",
   "name": "python2"
  },
  "language_info": {
   "codemirror_mode": {
    "name": "ipython",
    "version": 2.0
   },
   "file_extension": ".py",
   "mimetype": "text/x-python",
   "name": "python",
   "nbconvert_exporter": "python",
   "pygments_lexer": "ipython2",
   "version": "2.7.6"
  }
 },
 "nbformat": 4,
 "nbformat_minor": 0
}