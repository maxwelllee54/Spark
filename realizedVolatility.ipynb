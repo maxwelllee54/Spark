{
 "cells": [
  {
   "cell_type": "code",
   "execution_count": 1,
   "metadata": {
    "collapsed": true
   },
   "outputs": [],
   "source": [
    "from pyspark.sql import SparkSession, functions as f\n",
    "from pyspark.sql.window import Window"
   ]
  },
  {
   "cell_type": "code",
   "execution_count": 2,
   "metadata": {},
   "outputs": [],
   "source": [
    "spark = SparkSession.builder.master('local[*]').appName('HTF_Vol').getOrCreate()\n",
    "spark.conf.set(\"spark.executor.memory\", \"2g\")\n",
    "\n",
    "df = spark.read.csv('newaa.csv', header=True)\n",
    "df = df.withColumn('TIME', f.date_format(df.TIME, 'HH:mm:ss'))"
   ]
  },
  {
   "cell_type": "code",
   "execution_count": 3,
   "metadata": {},
   "outputs": [
    {
     "name": "stdout",
     "output_type": "stream",
     "text": [
      "+------+--------+--------+-----+-----+\n|SYMBOL|    DATE|    TIME|PRICE| SIZE|\n+------+--------+--------+-----+-----+\n|     A|20021202|09:30:20|19.75|30200|\n|     A|20021202|09:30:22|19.75|  100|\n|     A|20021202|09:30:22|19.75|  300|\n|     A|20021202|09:30:22|19.75|  100|\n|     A|20021202|09:30:23|19.75|  100|\n|     A|20021202|09:30:23|19.75|  100|\n|     A|20021202|09:30:23|19.75|  100|\n|     A|20021202|09:30:23|19.75|  100|\n|     A|20021202|09:30:23|19.75|  100|\n|     A|20021202|09:30:23|19.75|  100|\n|     A|20021202|09:30:23|19.75| 1100|\n|     A|20021202|09:30:23|19.75| 1000|\n|     A|20021202|09:30:23|19.75|  400|\n|     A|20021202|09:30:23|19.75|  100|\n|     A|20021202|09:30:23|19.75|  100|\n|     A|20021202|09:30:23|19.75|  200|\n|     A|20021202|09:30:23|19.75|  100|\n|     A|20021202|09:30:23|19.75| 1000|\n|     A|20021202|09:30:23|19.75| 3000|\n|     A|20021202|09:30:23|19.75|  100|\n+------+--------+--------+-----+-----+\nonly showing top 20 rows\n\n"
     ]
    }
   ],
   "source": [
    "df.show()"
   ]
  },
  {
   "cell_type": "code",
   "execution_count": 4,
   "metadata": {},
   "outputs": [],
   "source": [
    "# patition a window to calculcate the u_sequence\n",
    "w = Window().partitionBy(df['SYMBOL']).orderBy('DATE', 'TIME')\n",
    "\n",
    "# calculate the u_sequence\n",
    "df = df.withColumn('PRICE_1', f.lead('PRICE').over(w))\n",
    "df = df.withColumn('LOG_RETURN', f.log(df.PRICE_1/df.PRICE))\n",
    "\n",
    "# patition a window to calculate the moving standard deviation\n",
    "window_period = 100\n",
    "w2 = Window().partitionBy('SYMBOL').orderBy('DATE', 'TIME').rowsBetween(0, window_period)\n",
    "df = df.withColumn('VOLATILITY', f.stddev(df['LOG_RETURN']).over(w2))"
   ]
  },
  {
   "cell_type": "code",
   "execution_count": 5,
   "metadata": {},
   "outputs": [],
   "source": [
    "df.write.csv('result0527.csv')\n",
    "\n",
    "# df.toPandas().to_csv('newaa_result.csv')\n",
    "# df.write.format('com.databricks.spark.csv').save('newaa_result.csv')"
   ]
  }
 ],
 "metadata": {
  "kernelspec": {
   "display_name": "Python 2",
   "language": "python",
   "name": "python2"
  },
  "language_info": {
   "codemirror_mode": {
    "name": "ipython",
    "version": 2.0
   },
   "file_extension": ".py",
   "mimetype": "text/x-python",
   "name": "python",
   "nbconvert_exporter": "python",
   "pygments_lexer": "ipython2",
   "version": "2.7.6"
  }
 },
 "nbformat": 4,
 "nbformat_minor": 0
}